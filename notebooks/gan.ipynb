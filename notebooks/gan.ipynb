{
 "cells": [
  {
   "cell_type": "markdown",
   "metadata": {},
   "source": [
    "# Simple GAN: Theory"
   ]
  },
  {
   "cell_type": "markdown",
   "metadata": {},
   "source": [
    "The generative model is pitted against an adversary: a discriminative model that learns to determine whether a sample is from the generative model distribution or the data distribution.\n",
    "\n",
    "**Setup**<br>\n",
    "* $p_{data}$: true data distribution over data $\\mathbf{x}\\in\\mathcal{X}$.\n",
    "* $p_g$: generators distribution over data $\\mathbf{x}\\in\\mathcal{X}$.\n",
    "* $p_{\\mathbf{z}}(\\mathbf{z})$: prior on input noise variables $\\mathbf{z}\\in\\mathcal{Z}$\n",
    "* Let $G:\\mathcal{Z}\\rightarrow\\mathcal{X}$ be the generator $G(\\mathbf{z};\\theta_g)$\n",
    "* Let $D:\\mathcal{X}\\rightarrow[0,1]$ be the discriminator $D(\\mathbf{x};\\theta_d)$, where $D(\\mathbf{x})$ is the probability that $\\mathbf{x}$ came from the data distribution $p_{data}$ than the generator distribution $p_g$.\n",
    "\n",
    "**The Objective Function**<br>\n",
    "$D$ and $G$ play the following two-player minimax game with the value function $V(D,G)$\n",
    "\n",
    "$$\\underset{G}{\\text{min }}\\underset{D}{\\text{max }}V(D,G)=\\mathbb{E}_{\\mathbf{x}\\sim p_{data}(\\mathbf{x})}\\Big[\\log D(\\mathbf{x})\\Big]+ \\mathbb{E}_{\\mathbf{z}\\sim p_{\\mathbf{z}}(\\mathbf{z})}\\bigg[\\log \\Big(1-D\\big(G(\\mathbf{z})\\big)\\Big)\\bigg]$$\n",
    "\n",
    "where \n",
    "* We would like to maximise the first term as this is the probability (output by model $D$) of the data point $\\mathbf{x}\\sim p_{data}$ coming from the data distribution $p_{data}$.\n",
    "* We would like to minimise the second term as this is the probability (output by model $D$) that the data point $G(\\mathbf{z})$ comes from the generative model distribution $p_g$.\n",
    "\n",
    "In practice, the original loss function may not provide sufficient gradients for $G$ to learn. This is because early in learning, $G$ is poor and $D$ can easily reject samples with high confidence such that $\\log\\Big(1-D\\big(G(\\mathbf{z})\\big)\\Big)\\rightarrow0$ as $D\\big(G(\\mathbf{z})\\big)\\approx0$. Instead we can use the below loss function,\n",
    "\n",
    "$$\\underset{G}{\\text{max }}\\underset{D}{\\text{max }}V(D,G)=\\mathbb{E}_{\\mathbf{x}\\sim p_{data}(\\mathbf{x})}\\Big[\\log D(\\mathbf{x})\\Big]+ \\mathbb{E}_{\\mathbf{z}\\sim p_{\\mathbf{z}}(\\mathbf{z})}\\Big[\\log D\\big(G(\\mathbf{z})\\big)\\Big]$$\n",
    "\n",
    "which has the same fixed point of the dynamics of $G$ and $D$ but provides much stronger gradients early in learning.\n",
    "\n",
    "**Convegence Results**<br>\n",
    "In this setup, for $G$ fixed the optimal discriminator $D$ is \n",
    "\n",
    "$$D^{\\star}_{G}(\\mathbf{x})=\\frac{p_{data}(\\mathbf{x})}{p_{data}(\\mathbf{x})+p_g(\\mathbf{x})}$$\n",
    "\n",
    "The training objective for $D$ can be interpreted as maximising the log-likelihood of the conditional probabiltiy $p(Y=y\\mid \\mathbf{x})$, where $y=1$ if $\\mathbf{x}$ comes from $p_{data}$ and $y=0$ if $\\mathbf{x}$ comes from $p_g$. The objective can be reformulated as,\n",
    "\n",
    "$$\\begin{align}\n",
    "V(D^{\\star}_G,G)&=\\underset{D}{\\text{max }}V(D,G)\\\\\n",
    "&=\\mathbb{E}_{\\mathbf{x}\\sim p_{data}(\\mathbf{x})}\\Big[\\log D^{\\star}_G(\\mathbf{x})\\Big]+ \\mathbb{E}_{\\mathbf{z}\\sim p_{\\mathbf{z}}(\\mathbf{z})}\\bigg[\\log \\Big(1-D^{\\star}_G\\big(G(\\mathbf{z})\\big)\\Big)\\bigg]\\\\\n",
    "&=\\mathbb{E}_{\\mathbf{x}\\sim p_{data}(\\mathbf{x})}\\Big[\\log D^{\\star}_G(\\mathbf{x})\\Big]+ \\mathbb{E}_{\\mathbf{z}\\sim p_{\\mathbf{z}}(\\mathbf{z})}\\bigg[\\log \\Big(1-D^{\\star}_G(\\mathbf{x})\\Big)\\bigg]\\\\\n",
    "&=\\mathbb{E}_{\\mathbf{x}\\sim p_{data}(\\mathbf{x})}\\bigg[\\log\\frac{p_{data}(\\mathbf{x})}{p_{data}(\\mathbf{x})+p_g(\\mathbf{x})}\\bigg]+ \\mathbb{E}_{\\mathbf{z}\\sim p_{\\mathbf{z}}(\\mathbf{z})}\\bigg[\\log\\frac{p_g(\\mathbf{x})}{p_{data}(\\mathbf{x})+p_g(\\mathbf{x})}\\bigg]\n",
    "\\end{align}$$\n",
    "\n",
    "The generator minimises the original objective for a fixed discriminator $D$. Hence the global minimum of the virtual training criterion $V(D^{\\star}_G,G)$ is achieved if and only if $p_g=p_{data}$. This means that $D^{\\star}_G=\\frac{1}{2}$ such that\n",
    "\n",
    "$$\\begin{align}\n",
    "V(D^{\\star}_G,G)&=-\\log4+KL\\bigg(p_{data}||\\frac{p_{data}+p_g}{2}\\bigg)+ KL\\bigg(p_g||\\frac{p_{data}+p_g}{2}\\bigg)\\\\\n",
    "&=-\\log4 + 2D_{JSD}(p_{data}||p_g)\n",
    "\\end{align}$$\n",
    "\n",
    "where $D_{JSD}$ is the Jenson-Shannon Divergence (the symmetric form of the KL divergence). Since the Jensen–Shannon divergence between two distributions is always non-negative and zero only when they are equal, we that the optimal objective is $V(D^{\\star}_{G^{\\star}},G^{\\star})=\\underset{G}{\\text{min }}V(D^{\\star}_G,G)=-\\log4$.\n",
    "\n",
    "**The Training Algorithm**<br>\n",
    "In practice, we must implement the game using an iterative, numerical approach. Optimizing $D$ to completion in the inner loop of training is computationally prohibitive, and on finite datasets would result in overfitting. Instead, we alternate between $k$ steps of optimizing $D$ and one step of optimizing $G$. This results in $D$ being maintained near its optimal solution, so long as G changes slowly enough.\n",
    "\n",
    "For epochs $1,...,N$ do:<br>\n",
    "For k steps do:\n",
    "1. Sample minibatch of size $m$ from data: $\\mathbf{x}^{(1)},...,\\mathbf{x}^{(m)}\\sim p_{data}(\\mathbf{x})$\n",
    "2. Sample minibatch of size $m$ from noise: $\\mathbf{z}^{(1)},...,\\mathbf{z}^{(m)}\\sim p_{\\mathbf{z}}(\\mathbf{z})$\n",
    "3. Take a gradient ascent step on the discriminator parameters $\\theta_d$\n",
    "\n",
    "$$\\nabla_{\\theta_d}V(D,G)=\\frac{1}{m}\\nabla_{\\theta_d}\\sum^{m}_{i=1}\\bigg[\\log D\\Big(\\mathbf{x}^{(i)}\\Big) +\\log \\Big(1-D\\Big(G\\Big(\\mathbf{z}^{(i)}\\Big)\\Big)\\Big)\\bigg]$$\n",
    "\n",
    "end for <br>\n",
    "4. Sample minibatch of size $m$ from noise: $\\mathbf{z}^{(1)},...,\\mathbf{z}^{(m)}\\sim p_{\\mathbf{z}}(\\mathbf{z})$\n",
    "5. Take a gradient descent step on the generator parameters $\\theta_g$\n",
    "\n",
    "$$\\nabla_{\\theta_g}V(D,G)=\\frac{1}{m}\\nabla_{\\theta_d}\\sum^{m}_{i=1}\\log \\Big(1-D\\Big(G\\Big(\\mathbf{z}^{(i)}\\Big)\\Big)\\Big)$$\n",
    "\n",
    "end for\n",
    "\n",
    "**Challenges**<br>\n",
    "Working with GANs in practice is challenging because:\n",
    "1. Unstable optimisation procedure: generator and discriminator loss continue to oscillate without converging to clear stopping point.\n",
    "2. Potential for mode collapse: generator can get stuck producing one of a few types of samples over and over again.\n",
    "3. Difficulty in evaluation: due to the lack of a robust stopping criteria, it is difficult to know when exactly the GAN has finished training.\n",
    "\n",
    "Tips and tricks for training a GAN: https://github.com/soumith/ganhacks\n",
    "\n",
    "**References**<br>\n",
    "Original GAN paper: https://arxiv.org/abs/1406.2661 <br>\n",
    "NeurIPS GAN tutorial: https://arxiv.org/abs/1701.00160 <br>\n",
    "CS236 notes: https://deepgenerativemodels.github.io/notes/index.html"
   ]
  },
  {
   "cell_type": "markdown",
   "metadata": {},
   "source": [
    "# Simple GAN: Code"
   ]
  },
  {
   "cell_type": "markdown",
   "metadata": {},
   "source": [
    "PyTorch-GAN: https://github.com/eriklindernoren/PyTorch-GAN#gan<br>\n",
    "https://github.com/BY571/GANs/blob/master/Basic%20GAN.ipynb"
   ]
  },
  {
   "cell_type": "code",
   "execution_count": 1,
   "metadata": {},
   "outputs": [],
   "source": [
    "import numpy as np\n",
    "import matplotlib.pyplot as plt\n",
    "import time\n",
    "from collections import defaultdict\n",
    "\n",
    "import torch\n",
    "import torch.nn as nn\n",
    "import torch.nn.functional as F\n",
    "from torch.autograd import Variable\n",
    "import torch.utils.data as data_utils"
   ]
  },
  {
   "cell_type": "markdown",
   "metadata": {},
   "source": [
    "## Load MNIST Dataset"
   ]
  },
  {
   "cell_type": "code",
   "execution_count": 2,
   "metadata": {},
   "outputs": [],
   "source": [
    "# import torchvision\n",
    "# from torchvision import transforms\n",
    "# from torchvision.datasets import MNIST\n",
    "# # 60000 tuples with 1x28x28 image and corresponding label\n",
    "# data = MNIST('../data', \n",
    "#              train=True, \n",
    "#              download=False,\n",
    "#              transform = transforms.Compose([transforms.ToTensor()]))\n",
    "# # Split data into images and labels\n",
    "# x_train = data.train_data\n",
    "# y_train = data.train_labels\n",
    "# # Scale images from [0,255] to [-1,+1]\n",
    "# x_train = ((x_train.float() / 255) - 0.5) * 2\n",
    "# # Save as .npz\n",
    "# np.savez_compressed('../data/mnist', \n",
    "#                     a=x_train,\n",
    "#                     b=y_train)"
   ]
  },
  {
   "cell_type": "code",
   "execution_count": 3,
   "metadata": {},
   "outputs": [],
   "source": [
    "# Load MNIST data locally\n",
    "data = np.load('../data/mnist.npz')\n",
    "x_train = torch.Tensor(data['a'])\n",
    "y_train = torch.Tensor(data['b'])"
   ]
  },
  {
   "cell_type": "code",
   "execution_count": 4,
   "metadata": {},
   "outputs": [
    {
     "data": {
      "image/png": "[encoded data removed]",
      "text/plain": [
       "<Figure size 2520x2520 with 4 Axes>"
      ]
     },
     "metadata": {
      "needs_background": "light"
     },
     "output_type": "display_data"
    }
   ],
   "source": [
    "# Visualise data\n",
    "plt.rcParams.update({'font.size': 16})\n",
    "fig, axes = plt.subplots(1,4, figsize=(35,35))\n",
    "imx, imy = (28,28)\n",
    "labels   = [0,1,2,3]\n",
    "for i, ax in enumerate(axes):\n",
    "    visual = np.reshape(x_train[labels[i]], (imx,imy))\n",
    "    ax.set_title(\"Example Data Image, y=\"+str(int(y_train[labels[i]])))\n",
    "    ax.imshow(visual, vmin=-1, vmax=1)\n",
    "plt.show()"
   ]
  },
  {
   "cell_type": "markdown",
   "metadata": {},
   "source": [
    "## Models"
   ]
  },
  {
   "cell_type": "code",
   "execution_count": 5,
   "metadata": {},
   "outputs": [],
   "source": [
    "class Generator(nn.Module):\n",
    "    def __init__(self, input_shape, output_shape):\n",
    "        \"\"\"\n",
    "        Generator Model.\n",
    "        \n",
    "        Arguments:\n",
    "        ----------\n",
    "        input_shape : `int`\n",
    "            Dimensionality of the latent space. (Default=100)\n",
    "        output_shape : `int`\n",
    "            Flattened size of image. (Default=784)\n",
    "        \"\"\"\n",
    "        super(Generator, self).__init__()\n",
    "        \n",
    "        def block(in_shape, out_shape, normalize=True):\n",
    "            layers = [nn.Linear(in_shape, out_shape)]\n",
    "            if normalize:\n",
    "                layers.append(nn.BatchNorm1d(out_shape, 0.8))\n",
    "            layers.append(nn.LeakyReLU(0.2, inplace=True))\n",
    "            return layers        \n",
    "        \n",
    "        self.model = nn.Sequential(*block(input_shape, 128, normalize=False),\n",
    "                                   *block(128, 128),\n",
    "                                   nn.Linear(128, output_shape),\n",
    "                                   nn.Tanh())\n",
    "\n",
    "    def forward(self, z):\n",
    "        x = self.model(z)\n",
    "        x = x.view(x.size(0), *x_shape)\n",
    "        return x        "
   ]
  },
  {
   "cell_type": "code",
   "execution_count": 6,
   "metadata": {},
   "outputs": [],
   "source": [
    "class Discriminator(nn.Module):\n",
    "    def __init__(self, input_shape):\n",
    "        \"\"\"\n",
    "        Discriminator Model.\n",
    "        \n",
    "        Arguments:\n",
    "        ----------\n",
    "        input_shape : `int`\n",
    "            Flattened size of image. (Default=784)\n",
    "        \"\"\"        \n",
    "        super(Discriminator, self).__init__()\n",
    "        self.model = nn.Sequential(nn.Linear(input_shape, 128),\n",
    "                                   nn.LeakyReLU(0.2, inplace=True),\n",
    "                                   nn.Linear(128, 128),\n",
    "                                   nn.LeakyReLU(0.2, inplace=True),\n",
    "                                   nn.Linear(128, 1),\n",
    "                                   nn.Sigmoid())\n",
    "\n",
    "    def forward(self, x):\n",
    "        x_flat = x.view(x.size(0), -1)\n",
    "        y = self.model(x_flat)\n",
    "        return y"
   ]
  },
  {
   "cell_type": "markdown",
   "metadata": {},
   "source": [
    "## Training"
   ]
  },
  {
   "cell_type": "code",
   "execution_count": 7,
   "metadata": {},
   "outputs": [],
   "source": [
    "# Hyperparameters\n",
    "z_dim   = 100\n",
    "epochs  = 1\n",
    "batch_size = 64\n",
    "k = 1"
   ]
  },
  {
   "cell_type": "code",
   "execution_count": 8,
   "metadata": {},
   "outputs": [
    {
     "name": "stdout",
     "output_type": "stream",
     "text": [
      "Device:  cpu\n",
      "Generator(\n",
      "  (model): Sequential(\n",
      "    (0): Linear(in_features=100, out_features=128, bias=True)\n",
      "    (1): LeakyReLU(negative_slope=0.2, inplace=True)\n",
      "    (2): Linear(in_features=128, out_features=128, bias=True)\n",
      "    (3): BatchNorm1d(128, eps=0.8, momentum=0.1, affine=True, track_running_stats=True)\n",
      "    (4): LeakyReLU(negative_slope=0.2, inplace=True)\n",
      "    (5): Linear(in_features=128, out_features=784, bias=True)\n",
      "    (6): Tanh()\n",
      "  )\n",
      ")\n",
      "Discriminator(\n",
      "  (model): Sequential(\n",
      "    (0): Linear(in_features=784, out_features=128, bias=True)\n",
      "    (1): LeakyReLU(negative_slope=0.2, inplace=True)\n",
      "    (2): Linear(in_features=128, out_features=128, bias=True)\n",
      "    (3): LeakyReLU(negative_slope=0.2, inplace=True)\n",
      "    (4): Linear(in_features=128, out_features=1, bias=True)\n",
      "    (5): Sigmoid()\n",
      "  )\n",
      ")\n"
     ]
    }
   ],
   "source": [
    "device = torch.device(\"cuda:0\" if torch.cuda.is_available() else \"cpu\")\n",
    "\n",
    "# Create DatatLoader \n",
    "dataset = data_utils.TensorDataset(x_train, y_train)\n",
    "dataloader = torch.utils.data.DataLoader(dataset,\n",
    "                                         batch_size=batch_size,\n",
    "                                         shuffle=True)\n",
    "\n",
    "# Loss function\n",
    "adversarial_loss = torch.nn.BCELoss()\n",
    "\n",
    "# Initialize generator and discriminator\n",
    "generator     = Generator(z_dim, np.prod(x_train[0].shape))\n",
    "discriminator = Discriminator(np.prod(x_train[0].shape))\n",
    "\n",
    "# Send to GPU if available \n",
    "generator.to(device)\n",
    "discriminator.to(device)\n",
    "adversarial_loss.to(device)\n",
    "\n",
    "# Optimisers\n",
    "optimiser_G = torch.optim.Adam(generator.parameters(), lr=1e-4)\n",
    "optimiser_D = torch.optim.SGD(discriminator.parameters(), lr=1e-3)\n",
    "\n",
    "print(\"Device: \", device)\n",
    "print(generator)\n",
    "print(discriminator)"
   ]
  },
  {
   "cell_type": "code",
   "execution_count": null,
   "metadata": {},
   "outputs": [],
   "source": [
    "# Training\n",
    "\n",
    "measures = defaultdict(list)\n",
    "measures['loss_d']\n",
    "measures['loss_g']\n",
    "\n",
    "start_time = time.time()\n",
    "for epoch in range(epochs):\n",
    "    \n",
    "    for step in range(k):    \n",
    "        # Train Discriminator\n",
    "        for i, (X,y) in enumerate(dataloader):\n",
    "            \n",
    "            # Adversarial ground truths\n",
    "            valid = Variable(Tensor(imgs.size(0), 1).fill_(1.0), requires_grad=False)\n",
    "            fake = Variable(Tensor(imgs.size(0), 1).fill_(0.0), requires_grad=False)            \n",
    "            \n",
    "            optimizer_D.zero_grad()\n",
    "            # Measure discriminator's ability to classify real from generated samples\n",
    "            real_loss = adversarial_loss(discriminator(real_imgs), valid)\n",
    "            fake_loss = adversarial_loss(discriminator(gen_imgs.detach()), fake)\n",
    "            d_loss = (real_loss + fake_loss) / 2\n",
    "\n",
    "            d_loss.backward()\n",
    "            optimizer_D.step()\n",
    "\n",
    "            print(\n",
    "                \"[Epoch %d/%d] [Batch %d/%d] [D loss: %f] [G loss: %f]\"\n",
    "                % (epoch, opt.n_epochs, i, len(dataloader), d_loss.item(), g_loss.item())\n",
    "            )\n",
    "\n",
    "            batches_done = epoch * len(dataloader) + i\n",
    "            if batches_done % opt.sample_interval == 0:\n",
    "                save_image(gen_imgs.data[:25], \"images/%d.png\" % batches_done, nrow=5, normalize=True)            \n",
    "    \n",
    "    # Train Generator\n",
    "    for i, (X,y) in enumerate(dataloader):\n",
    "        \n",
    "        # Adversarial ground truths\n",
    "        valid = Variable(Tensor(imgs.size(0), 1).fill_(1.0), requires_grad=False)\n",
    "        fake = Variable(Tensor(imgs.size(0), 1).fill_(0.0), requires_grad=False)           \n",
    "        \n",
    "        optimizer_G.zero_grad()\n",
    "\n",
    "        # Sample noise as generator input\n",
    "        z = Variable(Tensor(np.random.normal(0, 1, (imgs.shape[0], z_dim))))\n",
    "\n",
    "        # Generate a batch of images\n",
    "        gen_imgs = generator(z)\n",
    "\n",
    "        # Loss measures generator's ability to fool the discriminator\n",
    "        g_loss = adversarial_loss(discriminator(gen_imgs), valid)\n",
    "\n",
    "        g_loss.backward()\n",
    "        optimizer_G.step()    "
   ]
  }
 ],
 "metadata": {
  "kernelspec": {
   "display_name": "Python 3",
   "language": "python",
   "name": "python3"
  },
  "language_info": {
   "codemirror_mode": {
    "name": "ipython",
    "version": 3
   },
   "file_extension": ".py",
   "mimetype": "text/x-python",
   "name": "python",
   "nbconvert_exporter": "python",
   "pygments_lexer": "ipython3",
   "version": "3.6.8"
  }
 },
 "nbformat": 4,
 "nbformat_minor": 4
}
